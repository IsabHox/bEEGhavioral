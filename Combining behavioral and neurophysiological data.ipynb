{
 "cells": [
  {
   "cell_type": "markdown",
   "id": "5f1e85b0",
   "metadata": {},
   "source": [
    "# Combining behavioral and neurophysiological data\n"
   ]
  },
  {
   "cell_type": "markdown",
   "id": "07e58985",
   "metadata": {},
   "source": [
    "The goal of this workshop is to introduce a way of combining neurophysiological data and behavioral observations, on recordings of human EEG in a discrimination task. "
   ]
  },
  {
   "cell_type": "markdown",
   "id": "fbdaf377",
   "metadata": {},
   "source": [
    "## 1. Description of the experiment and data"
   ]
  },
  {
   "cell_type": "markdown",
   "id": "0fa099ca",
   "metadata": {},
   "source": [
    "In this task, participants were presented at each trial either with an image of a face or a sound, and had to report what they have perceived through key presses (left arrow=sound, right arrow=face) as fast and accuately as possible. A timeout on response time would occur two seconds after stimulus presentation. \n",
    "\n",
    "The experiment is split into two parts:\n",
    "- a calibration phase, where the stimuli were preceded by a predictive cue, i.e. a stimulus to which participants did not have to response, but that predicted with a 80% accuracy the stimulus that is coming next\n",
    "- a test phase, whose sequence does not include cues.\n",
    "\n",
    "While performing this task, their EEG activity was recorded using 32 channels, along with their response class and time."
   ]
  },
  {
   "cell_type": "code",
   "execution_count": null,
   "id": "77692d33",
   "metadata": {},
   "outputs": [],
   "source": [
    "# imports and utility functions\n",
    "import numpy as np\n",
    "import mne\n",
    "import matplotlib.pyplot as plt\n",
    "import mne\n",
    "from collections import Counter\n",
    "import pandas as pd"
   ]
  },
  {
   "cell_type": "code",
   "execution_count": null,
   "id": "07e28008",
   "metadata": {},
   "outputs": [],
   "source": [
    "#%% import and preprocessing\n",
    "def import_raw(datapath,nblock):\n",
    "    '''Imports raw data as an MNE structure.\n",
    "    Input: datapath (str) path to reach data files.\n",
    "    Ouput: eegdata (MNE.Raw) relevant data'''\n",
    "    eegdatas=[0 for i in range(nblock)]\n",
    "    for b in range (nblock):\n",
    "        filename=datapath.format(b+1)\n",
    "        vhdr_fname=filename+'.vhdr';\n",
    "        eegdatas[b]=mne.io.read_raw_brainvision(vhdr_fname,preload=True)\n",
    "        \n",
    "    eegdata=mne.concatenate_raws(eegdatas,preload=True)\n",
    "    montage1020 = mne.channels.make_standard_montage('standard_1020')\n",
    "    eegdata = eegdata.set_montage(montage1020)\n",
    "    return eegdata\n",
    "\n",
    "def get_rej_trials(drop_log):\n",
    "    '''From a drop log, get the index of trials that have been rejected'''\n",
    "    ix_list=[]\n",
    "    for i,t in enumerate(drop_log):\n",
    "        if len(t)!=0:\n",
    "            ix_list.append(i)\n",
    "    return ix_list\n",
    "\n",
    "def get_bad_stats(drop_log):\n",
    "    scores = Counter([ch for d in drop_log for ch in d])\n",
    "    return scores\n",
    "\n",
    "def get_bad_channels_trials(eegdata,event_id,thresh_trial=110e-6,thresh_chans=0.15,tmin=-1,tmax=3,reject_tmin=-0.9,reject_tmax=0.5):\n",
    "    '''Returns bad channels and trials given the specified thresholds.\n",
    "    Inputs:\n",
    "        thresh_trial: (default 100e-6) threshold value from which an epoch should be rejected (in V)\n",
    "        thresh_chans: (default 0.15) proportion of trials rejected to decide to reject channels. Should be between 0 and 1\n",
    "    Outputs:\n",
    "        rej_trials: list of trial indices that should be rejected\n",
    "        rej_channels: list of str of the rejected channels'''\n",
    "        \n",
    "    all_evt,evt_dict=mne.events_from_annotations(eegdata)\n",
    "    stim_ix=np.where((all_evt[:,2]==event_id[0]) | (all_evt[:,2]==event_id[1]))[0]\n",
    "    events=all_evt[stim_ix,:]\n",
    "    \n",
    "    rej_dict=dict(eeg=thresh_trial)\n",
    "    ep = mne.Epochs(eegdata, events, baseline=None,tmin=tmin, tmax=tmax,reject=rej_dict,reject_tmin=reject_tmin,reject_tmax=reject_tmax, preload=True)\n",
    "    drop_log=list(ep.drop_log)\n",
    "    stats=len(get_rej_trials(drop_log))/len(events) #ep.drop_log_stats()\n",
    "    stat_details=get_bad_stats(drop_log)\n",
    "    rej_trials=get_rej_trials(drop_log)\n",
    "    rej_channels=[]\n",
    "    ch=0\n",
    "    while stats>thresh_chans and ch<eegdata.info['nchan']:\n",
    "        chan_to_rej=stat_details.most_common()[0][0]\n",
    "        rej_channels.extend([chan_to_rej])\n",
    "        for i in range(len(drop_log)):\n",
    "            if chan_to_rej in drop_log[i]:\n",
    "                new_log=list(drop_log[i])\n",
    "                new_log.remove(chan_to_rej)\n",
    "                if new_log is None:\n",
    "                    drop_log[i]=()\n",
    "                else:\n",
    "                    drop_log[i]=tuple(new_log)\n",
    "        stats=len(get_rej_trials(drop_log))/len(events)\n",
    "        stat_details=get_bad_stats(drop_log)\n",
    "        ch+=1\n",
    "    rej_trials=get_rej_trials(drop_log)\n",
    "    return rej_trials,rej_channels\n",
    "\n",
    "def get_epochs(eegdata,event_id,tmin,tmax):\n",
    "    events, event_dict = mne.events_from_annotations(eegdata)\n",
    "    evt_ix=np.where(events[:,2]==event_id[0])\n",
    "    for ix in range(1,len(event_id)):\n",
    "        evt_ix=np.hstack((evt_ix, np.where(events[:,2]==event_id[ix])))\n",
    "    stim_events=np.squeeze(events[evt_ix])\n",
    "    stim_events=np.sort(stim_events.view('int,int,int'), order=['f1'], axis=0).view(np.int)\n",
    "\n",
    "    metadata = {'event_time': stim_events[:, 0],\n",
    "                'trial_number': range(len(stim_events))}#\n",
    "    metadata = pd.DataFrame(metadata)\n",
    "    \n",
    "    epochs = mne.Epochs(eegdata, stim_events, event_id, tmin, tmax, proj=True, baseline=None, metadata=metadata, detrend=0, preload=True,event_repeated='merge')\n",
    "    return epochs\n",
    "\n",
    "\n",
    "#%% plotting functions\n",
    "def plot_ERP(epochs,events):\n",
    "    for e in events:\n",
    "        ev=epochs[e].average()\n",
    "        ev.plot_joint(title=e)\n",
    "    all_ev=epochs.average()\n",
    "    all_ev.plot_joint(title='All conditions')\n",
    "    return"
   ]
  },
  {
   "cell_type": "markdown",
   "id": "3ad60c82",
   "metadata": {},
   "source": [
    "## 2. Import and visualize data\n",
    "In this first part we look at raw data and see how we can improve it."
   ]
  },
  {
   "cell_type": "code",
   "execution_count": null,
   "id": "30155268",
   "metadata": {},
   "outputs": [],
   "source": [
    "# import raw data\n",
    "subject='756'\n",
    "datapath='D:\\\\PhD\\\\my_data\\\\{}\\\\{}_calib_000{}'.format(subject,subject,{})\n",
    "datapath_test='D:\\\\PhD\\\\my_data\\\\{}\\\\{}_test_000{}'.format(subject,subject,{})\n",
    "nblocks=4\n",
    "nblocks_test=3"
   ]
  },
  {
   "cell_type": "code",
   "execution_count": null,
   "id": "187348f9",
   "metadata": {},
   "outputs": [],
   "source": [
    "eegdata=import_raw(datapath,nblocks)\n",
    "\n",
    "# plot electrode location\n",
    "eegdata.plot_sensors(show_names=True)\n",
    "\n",
    "# epoch data\n",
    "events=[11,12]\n",
    "tmin=-1\n",
    "tmax=0.5\n",
    "epochs=get_epochs(eegdata, events,tmin=tmin, tmax=tmax)\n",
    "\n",
    "# plot ERP\n",
    "plot_ERP(epochs,['11','12'])"
   ]
  },
  {
   "cell_type": "markdown",
   "id": "31b53b25",
   "metadata": {},
   "source": [
    "We can see that the data is quite messy, as it is prone to artifacts. In fact, with EEG, any small movement can appear in the signal, from blinking, to sweating, to clenching the jaw. It is necessary to remove them. Run the code below to see how this is improved."
   ]
  },
  {
   "cell_type": "code",
   "execution_count": null,
   "id": "169a3042",
   "metadata": {},
   "outputs": [],
   "source": [
    "#filter data out\n",
    "fmin=None\n",
    "fmax=30\n",
    "eegdata_filtered=eegdata.filter(fmin, fmax, fir_design='firwin')"
   ]
  },
  {
   "cell_type": "code",
   "execution_count": null,
   "id": "80265b76",
   "metadata": {},
   "outputs": [],
   "source": [
    "#reject outliers that cannot be filtered\n",
    "#first, we can check if some electrodes have too high impedances\n",
    "from utils import get_bad_impedance, get_bad_channels_trials\n",
    "\n",
    "def get_bad_impedance(eegdata, thresh=50):\n",
    "    '''Adds a \"bad\" flag to channels whose impedance is beyond the specified threshold (specified in kOhm).\n",
    "    Acts in place (ie modifies the input)'''\n",
    "    impedances=eegdata.impedances.copy()\n",
    "    del impedances['Ref']\n",
    "    #loop over all impedances and extract these whose impedance is either NaN or over the threshold\n",
    "    for i in impedances:\n",
    "        if ...:\n",
    "            eegdata.info['bads'].extend([i])\n",
    "        elif ...:\n",
    "            eegdata.info['bads'].extend([i])\n",
    "            \n",
    "get_bad_impedance(eegdata_filtered)\n",
    "print(eegdata_filtered.info['bads'])"
   ]
  },
  {
   "cell_type": "code",
   "execution_count": null,
   "id": "c3ea59e9",
   "metadata": {},
   "outputs": [],
   "source": [
    "#then we reject epochs and electrodes that are above a certain threshold \n",
    "rejt,rejc=get_bad_channels_trials(eegdata_filtered,events)\n",
    "eegdata_filtered.info['bads'].extend(rejc)\n",
    "eegdata_filtered = eegdata_filtered.copy().interpolate_bads(reset_bads=False)\n",
    "print(eegdata_filtered.info['bads'])\n",
    "\n",
    "#plot new ERP\n",
    "clean_epochs=get_epochs(eegdata_filtered, events,tmin=tmin, tmax=tmax)\n",
    "clean_epochs.drop(rejt)\n",
    "plot_ERP(clean_epochs,['11','12'])"
   ]
  },
  {
   "cell_type": "markdown",
   "id": "5fdc92d7",
   "metadata": {},
   "source": [
    "This is already much better. Pre-processing is a whole topic to itself, so we will not go into detail in that part, you have the whole master to learn it."
   ]
  },
  {
   "cell_type": "markdown",
   "id": "a8679259",
   "metadata": {},
   "source": [
    "## 3. Look at the behavior\n",
    "We are not only interested in the EEG, but also in how the participants behaved and in particular how fast they responsed. In the following section, we extract the response times and look at their distribution."
   ]
  },
  {
   "cell_type": "code",
   "execution_count": null,
   "id": "a1db752d",
   "metadata": {},
   "outputs": [],
   "source": [
    "from utils import get_RT, get_labels\n",
    "\n",
    "# extract response times\n",
    "responses=[1001,1002,1003]\n",
    "RT=get_RT(eegdata_filtered, events, responses, rejt)\n",
    "\n",
    "# extract labels\n",
    "labels=get_labels(clean_epochs)\n",
    "\n",
    "# plot histograms\n",
    "plt.figure()\n",
    "plt.hist(RT[labels==11],alpha=0.2,label='Visual, mean={:.0f} ms'.format(np.mean(RT[labels==11])))\n",
    "plt.hist(RT[labels==12],alpha=0.2,label='Auditory, mean={:.0f} ms'.format(np.mean(RT[labels==12])))\n",
    "plt.title('Histogramm of response times, mean={:.0f} ms'.format(np.mean(RT)))\n",
    "plt.legend()"
   ]
  },
  {
   "cell_type": "markdown",
   "id": "fd00d888",
   "metadata": {},
   "source": [
    "We can also gain insight from the errors that people have made."
   ]
  },
  {
   "cell_type": "code",
   "execution_count": 1,
   "id": "31a6a2d8",
   "metadata": {},
   "outputs": [],
   "source": [
    "# count number of errors\n",
    "from utils import get_errors\n",
    "\n",
    "errors=get_errors(eegdata_filtered, events,[1001,1002,1003],rejt)\n",
    "print('This participant committed {} errors'.format(np.sum(errors)))"
   ]
  },
  {
   "cell_type": "code",
   "execution_count": null,
   "id": "ad4106ee",
   "metadata": {},
   "outputs": [],
   "source": []
  },
  {
   "cell_type": "code",
   "execution_count": null,
   "id": "3daebce1",
   "metadata": {},
   "outputs": [],
   "source": []
  },
  {
   "cell_type": "markdown",
   "id": "b63d4248",
   "metadata": {},
   "source": [
    "## 4. Combining brain activity and other quantitative data: wITPC\n",
    "From the ITPC exists a derived quantity called weighted ITPC, which allows to put in relation the EEG and another quantity: response times, pupil diameter, heart rate, etc. It is particularly useful for putting in relation behavior and phases, and is an elegant alternative to correlations.\n",
    "\n",
    "The first thing we have to do is compute the phase. There are again several ways of doing that, but here what we do is apply a Hilbert transform. What that does is transform the signal into its analytical form, that is each sample becomes written as a complex number: $a+ib$. From this signal, we can extract the power as: $P=a^2+b^2$ and the phase as $\\phi = arctan(\\frac{b}{a})$. \n",
    "\n",
    "Of course, we want to do that for each frequency band separately. In the brain, each frequency band has its own function, and it is therefore relevant to compute the phases separately. We do that by band-pass filtering the signal\n",
    "\n",
    "In which order should we do the operations? With filtering, we have seen that it makes sense to filter the whole signal before cutting it, as edge artifacts can occur. So the steps go as follows:\n",
    "1. Filter raw data in the band of interest\n",
    "2. Compute Hilbert transform\n",
    "3. Epoch data (don't forget to remove the bad channels and trials)\n",
    "4. Compute the phase"
   ]
  },
  {
   "cell_type": "code",
   "execution_count": null,
   "id": "267d14c4",
   "metadata": {},
   "outputs": [],
   "source": [
    "def compute_phase(glob_eegdata, freq_band, events, tmin, tmax, rejt=[]):\n",
    "    eegdata=glob_eegdata.copy()\n",
    "    eegdata.filter(freqs[f][0], freqs[f][1], fir_design='firwin')\n",
    "    #then, apply hilbert transform\n",
    "    eegdata.apply_hilbert()\n",
    "    #now, epoch data in the relevant period and extract data\n",
    "    ep=get_epochs(eegdata,events,tmin,tmax)\n",
    "    ep.drop(rejt)\n",
    "    my_data=ep.get_data()\n",
    "    #finally, compute phases from my_data.real and my_data.imag: use the function np.arctan2()\n",
    "    phases= ...\n",
    "    return phases\n",
    "\n",
    "freqs={'delta':[1,4],\n",
    "       'theta':[4,8],\n",
    "       'alpha':[8,12],\n",
    "       'beta':[12,25]}\n",
    "\n",
    "phases={}\n",
    "\n",
    "for f in freqs:\n",
    "    phases[f]=compute_phase(eegdata, freqs[f], events, tmin, tmax, rejt)"
   ]
  },
  {
   "cell_type": "markdown",
   "id": "839067c5",
   "metadata": {},
   "source": [
    "Have a look at the maximum and minimum of the phase, what do you notice?"
   ]
  },
  {
   "cell_type": "markdown",
   "id": "46f72d54",
   "metadata": {},
   "source": [
    "In fact, the phase is periodic: it varies between $-\\pi$ and $\\pi$, and has a periodicity of $2\\pi$, which means that $-\\pi = \\pi$, and $0=2\\pi$ etc. \n",
    "\n",
    "Due to this periodicity, it does not make sense to average the phases because what will happen is that averaging $-\\pi$ and $\\pi$ phases together will result in a mean phase of zero, which is not what happens in reality.\n",
    "Fortunately there is a solution to this, which is called intertrial phase clustering (ITPC). The idea behind it is that we convert phases into vectors, that we can then sum and normalize. \n",
    "\n",
    "To transform a phase into a vector, we simply apply its exponential form: $e^{j\\phi}$\n",
    "\n",
    "How do we take into account the behavioral data now? Well, having the vectors in that form means they all have the same norm, which is 1. What we want to do it change their norm depending on the behavioral quantity we observe. We will therefore implement the following formula to compute the weighted ITPC:\n",
    "$$wITPC_t = |\\frac{\\sum_{i=1}^{n_{trials}} b_i e^{j \\phi_{i,t}}}{n_{trials} }|$$\n",
    "\n",
    ", where $i$ is the trial index, $b_i$ the response time at that trial, and $\\phi_{i,t}$ the phase at the considered time sample $t$ and at trial $i$. $n_{trials}$ is the total number of trials considered in the sum. The two bars mean that we are taking the absolute value.\n",
    "\n",
    "That yields one value of the wITPC per time sample."
   ]
  },
  {
   "cell_type": "code",
   "execution_count": null,
   "id": "98a7fe17",
   "metadata": {},
   "outputs": [],
   "source": [
    "def compute_witpc_from_phase(phases, weigths):\n",
    "    n=np.shape(phases)[0]\n",
    "    witpc=...\n",
    "    return witpc\n",
    "\n",
    "witpc={}\n",
    "for f in freqs:\n",
    "    witpc[f]=compute_witpc_from_phase(phases[f],RT)"
   ]
  },
  {
   "cell_type": "markdown",
   "id": "161a5fb7",
   "metadata": {},
   "source": [
    "Let's see what that looks like!"
   ]
  },
  {
   "cell_type": "code",
   "execution_count": null,
   "id": "8432a835",
   "metadata": {},
   "outputs": [],
   "source": []
  },
  {
   "cell_type": "markdown",
   "id": "6511035e",
   "metadata": {},
   "source": [
    "You can now try to look at the different conditions separately. Do you see any difference in the wITPC for both conditions?\n",
    "\n",
    "Once this is done, you can also have a look at the test data, running the notebook. Are there any strong differences?"
   ]
  },
  {
   "cell_type": "markdown",
   "id": "aa195fb0",
   "metadata": {},
   "source": [
    "## 5. Conclusion\n",
    "In this workshop, we have seen a technique that combines behavioral and neural recordings quite elegantly. In reality, there are additional steps that would be necessary to conclude on the link between phase and response times. Indeed, since both the phase and the response time can have an impact on the differences that we see, there should be a way to counteract individual effects to keep only combined effects. This is done through permutations: we shuffle the matching between phases and response times, recompute the wITPC, repeat this process several times and average the maps thus obtained to create the \"null hypothesis\", that is, create what maps would look like if the mapping between phase and response times were random.\n",
    "\n",
    "Since this needs some time to run and quite a lot of computer power, we do not do it during our workshop, but you are encouraged to try it at home!"
   ]
  },
  {
   "cell_type": "code",
   "execution_count": null,
   "id": "3c7c6e34",
   "metadata": {},
   "outputs": [],
   "source": []
  }
 ],
 "metadata": {
  "kernelspec": {
   "display_name": "Python 3 (ipykernel)",
   "language": "python",
   "name": "python3"
  },
  "language_info": {
   "codemirror_mode": {
    "name": "ipython",
    "version": 3
   },
   "file_extension": ".py",
   "mimetype": "text/x-python",
   "name": "python",
   "nbconvert_exporter": "python",
   "pygments_lexer": "ipython3",
   "version": "3.8.11"
  }
 },
 "nbformat": 4,
 "nbformat_minor": 5
}
