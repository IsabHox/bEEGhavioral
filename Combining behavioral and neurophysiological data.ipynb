{
 "cells": [
  {
   "cell_type": "markdown",
   "id": "27d955ff",
   "metadata": {},
   "source": [
    "# Combining behavioral and neurophysiological data\n"
   ]
  },
  {
   "cell_type": "markdown",
   "id": "0a5ee025",
   "metadata": {},
   "source": [
    "The goal of this workshop is to introduce a way of combining neurophysiological data and behavioral observations, on recordings of human EEG in a discrimination task. "
   ]
  },
  {
   "cell_type": "markdown",
   "id": "8d1846bc",
   "metadata": {},
   "source": [
    "## 1. Description of the experiment and data"
   ]
  },
  {
   "cell_type": "markdown",
   "id": "4e419748",
   "metadata": {},
   "source": [
    "In this task, participants were presented at each trial either with an image of a face or a sound, and had to report what they have perceived through key presses (left arrow=sound, right arrow=face) as fast and accuately as possible. A timeout on response time would occur two seconds after stimulus presentation. \n",
    "\n",
    "The experiment is split into two parts:\n",
    "- a calibration phase, where the stimuli were preceded by a predictive cue, i.e. a stimulus to which participants did not have to response, but that predicted with a 80% accuracy the stimulus that is coming next\n",
    "- a test phase, whose sequence does not include cues.\n",
    "\n",
    "While performing this task, their EEG activity was recorded using 32 channels, along with their response class and time."
   ]
  },
  {
   "cell_type": "markdown",
   "id": "3b375dc4",
   "metadata": {},
   "source": [
    "## 2. Import and visualize data\n",
    "In this first part we look at raw data and see how we can improve it."
   ]
  },
  {
   "cell_type": "code",
   "execution_count": null,
   "id": "139d5222",
   "metadata": {},
   "outputs": [],
   "source": [
    "import numpy as np\n",
    "import mne\n",
    "import matplotlib.pyplot as plt\n",
    "from utils import import_raw,get_epochs,plot_ERP"
   ]
  },
  {
   "cell_type": "code",
   "execution_count": null,
   "id": "d8d4ace0",
   "metadata": {},
   "outputs": [],
   "source": [
    "# import raw data\n",
    "subject='756'\n",
    "datapath='D:\\\\PhD\\\\my_data\\\\{}\\\\{}_calib_000{}'.format(subject,subject,{})\n",
    "datapath_test='D:\\\\PhD\\\\my_data\\\\{}\\\\{}_test_000{}'.format(subject,subject,{})\n",
    "nblocks=4\n",
    "nblocks_test=3"
   ]
  },
  {
   "cell_type": "code",
   "execution_count": null,
   "id": "c429e163",
   "metadata": {},
   "outputs": [],
   "source": [
    "eegdata=import_raw(datapath,nblocks)\n",
    "\n",
    "# plot electrode location\n",
    "eegdata.plot_sensors(show_names=True)\n",
    "\n",
    "# epoch data\n",
    "events=[11,12]\n",
    "tmin=-1\n",
    "tmax=0.5\n",
    "epochs=get_epochs(eegdata, events,tmin=tmin, tmax=tmax)\n",
    "\n",
    "# plot ERP\n",
    "plot_ERP(epochs,['11','12'])"
   ]
  },
  {
   "cell_type": "markdown",
   "id": "4707eb12",
   "metadata": {},
   "source": [
    "We can see that the data is quite messy, as it is prone to artifacts. In fact, with EEG, any small movement can appear in the signal, from blinking, to sweating, to clenching the jaw. It is necessary to remove them. Run the code below to see how this is improved."
   ]
  },
  {
   "cell_type": "code",
   "execution_count": null,
   "id": "be52fa22",
   "metadata": {},
   "outputs": [],
   "source": [
    "#filter data out\n",
    "fmin=None\n",
    "fmax=30\n",
    "eegdata_filtered=eegdata.filter(fmin, fmax, fir_design='firwin')"
   ]
  },
  {
   "cell_type": "code",
   "execution_count": null,
   "id": "02c20711",
   "metadata": {},
   "outputs": [],
   "source": [
    "#reject outliers that cannot be filtered\n",
    "#first, we can check if some electrodes have too high impedances\n",
    "from utils import get_bad_impedance, get_bad_channels_trials\n",
    "\n",
    "get_bad_impedance(eegdata_filtered)\n",
    "print(eegdata_filtered.info['bads'])\n",
    "#then we reject epochs and electrodes that are above a certain threshold \n",
    "rejt,rejc=get_bad_channels_trials(eegdata_filtered,events)\n",
    "eegdata_filtered.info['bads'].extend(rejc)\n",
    "eegdata_filtered = eegdata_filtered.copy().interpolate_bads(reset_bads=False)\n",
    "print(eegdata_filtered.info['bads'])\n",
    "\n",
    "#plot new ERP\n",
    "clean_epochs=get_epochs(eegdata_filtered, events,tmin=tmin, tmax=tmax)\n",
    "clean_epochs.drop(rejt)\n",
    "plot_ERP(clean_epochs,['11','12'])"
   ]
  },
  {
   "cell_type": "markdown",
   "id": "9ac4efba",
   "metadata": {},
   "source": [
    "This is already much better. Pre-processing is a whole topic to itself, so we will not go into detail in that part, you have the whole master to learn it."
   ]
  },
  {
   "cell_type": "markdown",
   "id": "223027c4",
   "metadata": {},
   "source": [
    "## 3. Look at the behavior\n",
    "We are not only interested in the EEG, but also in how the participants behaved and in particular how fast they responsed. In the following section, we extract the response times and look at their distribution."
   ]
  },
  {
   "cell_type": "code",
   "execution_count": null,
   "id": "6970135c",
   "metadata": {},
   "outputs": [],
   "source": [
    "from utils import get_RT, get_labels\n",
    "\n",
    "# extract response times\n",
    "responses=[1001,1002,1003]\n",
    "RT=get_RT(eegdata_filtered, events, responses, rejt)\n",
    "\n",
    "# extract labels\n",
    "labels=get_labels(clean_epochs)\n",
    "\n",
    "# plot histograms\n",
    "plt.figure()\n",
    "plt.hist(RT[labels==11],alpha=0.2,label='Visual, mean={:.0f} ms'.format(np.mean(RT[labels==11])))\n",
    "plt.hist(RT[labels==12],alpha=0.2,label='Auditory, mean={:.0f} ms'.format(np.mean(RT[labels==12])))\n",
    "plt.title('Histogramm of response times, mean={:.0f} ms'.format(np.mean(RT)))\n",
    "plt.legend()"
   ]
  },
  {
   "cell_type": "markdown",
   "id": "16654abb",
   "metadata": {},
   "source": [
    "We can also gain insight from the errors that people have made."
   ]
  },
  {
   "cell_type": "code",
   "execution_count": 1,
   "id": "a6c19f43",
   "metadata": {},
   "outputs": [],
   "source": [
    "# count number of errors\n",
    "from utils import get_errors\n",
    "\n",
    "errors=get_errors(eegdata_filtered, events,[1001,1002,1003],rejt)\n",
    "print('This participant committed {} errors'.format(np.sum(errors)))"
   ]
  },
  {
   "cell_type": "markdown",
   "id": "b3a74ffb",
   "metadata": {},
   "source": [
    "## 4. Inter-trial phase coherence (ITPC)\n",
    "Also called intertrial phase clustering, this technique presents a global view on the phases at a specific time-point in all the trials. In particular, it tells you how consistent the phase at that time point is in all trials.\n",
    "\n",
    "The ERP, that we have seen before, is extracted through averaging all trials. Averaging is very useful to observe global tendecies of the signal amplitude. It would be nice to observe the phase in the same manner. However, it is not possible to average phases because of their circularity: $0$ and $2 \\pi$ are the same angle, but they are numerically very far! Simple averaging is not possible, but what we can do is convert the angles in their exponential notation."
   ]
  },
  {
   "cell_type": "code",
   "execution_count": null,
   "id": "a973b3e5",
   "metadata": {},
   "outputs": [],
   "source": []
  },
  {
   "cell_type": "code",
   "execution_count": null,
   "id": "daedd693",
   "metadata": {},
   "outputs": [],
   "source": []
  },
  {
   "cell_type": "markdown",
   "id": "9dd3ec2c",
   "metadata": {},
   "source": [
    "## 5. Combining ITPC and other quantitative data: wITPC\n",
    "From the ITPC exists a derived quantity called weighted ITPC, which allows to put in relation the EEG and another quantity: response times, pupil diameter, heart rate, etc. It is particularly useful for putting in relation behavior and phases, and is an elegant alternative to correlations."
   ]
  },
  {
   "cell_type": "code",
   "execution_count": null,
   "id": "3163e587",
   "metadata": {},
   "outputs": [],
   "source": []
  }
 ],
 "metadata": {
  "kernelspec": {
   "display_name": "Python 3 (ipykernel)",
   "language": "python",
   "name": "python3"
  },
  "language_info": {
   "codemirror_mode": {
    "name": "ipython",
    "version": 3
   },
   "file_extension": ".py",
   "mimetype": "text/x-python",
   "name": "python",
   "nbconvert_exporter": "python",
   "pygments_lexer": "ipython3",
   "version": "3.8.11"
  }
 },
 "nbformat": 4,
 "nbformat_minor": 5
}
