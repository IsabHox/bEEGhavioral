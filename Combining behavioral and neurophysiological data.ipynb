{
 "cells": [
  {
   "cell_type": "markdown",
   "id": "7a316e45",
   "metadata": {},
   "source": [
    "# Combining behavioral and neurophysiological data\n"
   ]
  },
  {
   "cell_type": "markdown",
   "id": "c0869dcc",
   "metadata": {},
   "source": [
    "The goal of this workshop is to introduce a way of combining neurophysiological data and behavioral observations, on recordings of human EEG in a discrimination task. "
   ]
  },
  {
   "cell_type": "markdown",
   "id": "9b14024e",
   "metadata": {},
   "source": [
    "## 1. Description of the experiment and data"
   ]
  },
  {
   "cell_type": "markdown",
   "id": "4c73e01f",
   "metadata": {},
   "source": [
    "In this task, participants were presented at each trial either with an image of a face or a sound, and had to report what they have perceived through key presses (left arrow=sound, right arrow=face) as fast and accuately as possible. A timeout on response time would occur two seconds after stimulus presentation. \n",
    "\n",
    "The experiment is split into two parts:\n",
    "- a calibration phase, where the stimuli were preceded by a predictive cue, i.e. a stimulus to which participants did not have to response, but that predicted with a 80% accuracy the stimulus that is coming next\n",
    "- a test phase, whose sequence does not include cues.\n",
    "\n",
    "While performing this task, their EEG activity was recorded using 32 channels, along with their response class and time."
   ]
  },
  {
   "cell_type": "markdown",
   "id": "7dd7b5c4",
   "metadata": {},
   "source": [
    "## 2. Import and visualize data\n",
    "In this first part we look at raw data and see how we can improve it."
   ]
  },
  {
   "cell_type": "code",
   "execution_count": null,
   "id": "c4a6038d",
   "metadata": {},
   "outputs": [],
   "source": [
    "import numpy as np\n",
    "import mne\n",
    "import matplotlib.pyplot as plt\n",
    "from utils import *"
   ]
  },
  {
   "cell_type": "code",
   "execution_count": null,
   "id": "d0274e33",
   "metadata": {},
   "outputs": [],
   "source": [
    "# import raw data\n",
    "datastruct=import_raw()\n",
    "\n",
    "# plot electrode location\n",
    "\n",
    "# epoch data\n",
    "\n",
    "\n",
    "# plot ERP\n",
    "\n"
   ]
  },
  {
   "cell_type": "markdown",
   "id": "735d8261",
   "metadata": {},
   "source": [
    "We can see that the data is quite messy, as it is prone to artifacts. In fact, with EEG, any small movement can appear in the signal, from blinking, to sweating, to clenching the jaw. It is necessary to remove them. Run the code below to see how this is improved."
   ]
  },
  {
   "cell_type": "code",
   "execution_count": null,
   "id": "89860647",
   "metadata": {},
   "outputs": [],
   "source": [
    "#filter data out\n",
    "\n",
    "#reject outliers that cannot be filtered\n",
    "\n",
    "#plot new ERP"
   ]
  },
  {
   "cell_type": "markdown",
   "id": "28ab07ec",
   "metadata": {},
   "source": [
    "This is already much better. Pre-processing is a whole topic to itself, so we will not go into detail in that part, you have the whole master to learn it."
   ]
  },
  {
   "cell_type": "markdown",
   "id": "19bd438e",
   "metadata": {},
   "source": [
    "## 3. Look at the behavior\n",
    "We are not only interested in the EEG, but also in how the participants behaved and in particular how fast they responsed. In the following section, we extract the response times and look at their distribution."
   ]
  },
  {
   "cell_type": "code",
   "execution_count": null,
   "id": "1584a8c9",
   "metadata": {},
   "outputs": [],
   "source": [
    "# extract response times\n",
    "\n",
    "# plot histograms"
   ]
  },
  {
   "cell_type": "markdown",
   "id": "04b7055b",
   "metadata": {},
   "source": [
    "We can also gain insight from the errors that people have made."
   ]
  },
  {
   "cell_type": "code",
   "execution_count": 1,
   "id": "3f2a6a35",
   "metadata": {},
   "outputs": [],
   "source": [
    "# count number of errors"
   ]
  },
  {
   "cell_type": "markdown",
   "id": "6a19fcc2",
   "metadata": {},
   "source": [
    "## 4. Inter-trial phase coherence (ITPC)\n",
    "Also called intertrial phase clustering, this technique presents a global view on the phases at a specific time-point in all the trials. In particular, it tells you how consistent the phase at that time point is in all trials.\n",
    "\n",
    "The ERP, that we have seen before, is extracted through averaging all trials. Averaging is very useful to observe global tendecies of the signal amplitude. It would be nice to observe the phase in the same manner. However, it is not possible to average phases because of their circularity: $0$ and $2 \\pi$ are the same angle, but they are numerically very far! Simple averaging is not possible, but what we can do is convert the angles in their exponential notation."
   ]
  },
  {
   "cell_type": "code",
   "execution_count": null,
   "id": "85d6129a",
   "metadata": {},
   "outputs": [],
   "source": []
  },
  {
   "cell_type": "code",
   "execution_count": null,
   "id": "74c804c6",
   "metadata": {},
   "outputs": [],
   "source": []
  },
  {
   "cell_type": "markdown",
   "id": "9f641e9e",
   "metadata": {},
   "source": [
    "## 5. Combining ITPC and other quantitative data: wITPC\n",
    "From the ITPC exists a derived quantity called weighted ITPC, which allows to put in relation the EEG and another quantity: response times, pupil diameter, heart rate, etc. It is particularly useful for putting in relation behavior and phases, and is an elegant alternative to correlations."
   ]
  },
  {
   "cell_type": "code",
   "execution_count": null,
   "id": "76f36321",
   "metadata": {},
   "outputs": [],
   "source": []
  }
 ],
 "metadata": {
  "kernelspec": {
   "display_name": "Python 3 (ipykernel)",
   "language": "python",
   "name": "python3"
  },
  "language_info": {
   "codemirror_mode": {
    "name": "ipython",
    "version": 3
   },
   "file_extension": ".py",
   "mimetype": "text/x-python",
   "name": "python",
   "nbconvert_exporter": "python",
   "pygments_lexer": "ipython3",
   "version": "3.8.11"
  }
 },
 "nbformat": 4,
 "nbformat_minor": 5
}
