{
 "cells": [
  {
   "cell_type": "markdown",
   "id": "566b2d2f",
   "metadata": {},
   "source": [
    "# Combining behavioral and neurophysiological data\n"
   ]
  },
  {
   "cell_type": "markdown",
   "id": "ac062cb2",
   "metadata": {},
   "source": [
    "The goal of this workshop is to introduce a way of combining neurophysiological data and behavioral observations, on recordings of human EEG in a discrimination task. "
   ]
  },
  {
   "cell_type": "markdown",
   "id": "f2188255",
   "metadata": {},
   "source": [
    "## 1. Description of the experiment and data"
   ]
  },
  {
   "cell_type": "markdown",
   "id": "26d70f66",
   "metadata": {},
   "source": [
    "In this task, participants were presented at each trial either with an image of a face or a sound, and had to report what they have perceived through key presses (left arrow=sound, right arrow=face) as fast and accuately as possible. A timeout on response time would occur two seconds after stimulus presentation. \n",
    "\n",
    "The experiment is split into two parts:\n",
    "- a calibration phase, where the stimuli were preceded by a predictive cue, i.e. a stimulus to which participants did not have to response, but that predicted with a 80% accuracy the stimulus that is coming next\n",
    "- a test phase, whose sequence does not include cues.\n",
    "\n",
    "While performing this task, their EEG activity was recorded using 32 channels, along with their response class and time."
   ]
  },
  {
   "cell_type": "markdown",
   "id": "c4a5a229",
   "metadata": {},
   "source": [
    "## 2. Import and visualize data\n",
    "In this first part we look at raw data and see how we can improve it."
   ]
  },
  {
   "cell_type": "code",
   "execution_count": null,
   "id": "65767959",
   "metadata": {},
   "outputs": [],
   "source": [
    "import numpy as np\n",
    "import mne\n",
    "import matplotlib.pyplot as plt\n",
    "from utils import *"
   ]
  },
  {
   "cell_type": "code",
   "execution_count": null,
   "id": "a511684a",
   "metadata": {},
   "outputs": [],
   "source": [
    "# import raw data\n",
    "\n",
    "\n",
    "# plot electrode location\n",
    "\n",
    "# epoch data\n",
    "\n",
    "\n",
    "# plot ERP\n",
    "\n"
   ]
  },
  {
   "cell_type": "markdown",
   "id": "f1cd17d8",
   "metadata": {},
   "source": [
    "We can see that the data is quite messy, as it is prone to artifacts. In fact, with EEG, any small movement can appear in the signal, from blinking, to sweating, to clenching the jaw. It is necessary to remove them. Run the code below to see how this is improved."
   ]
  },
  {
   "cell_type": "code",
   "execution_count": null,
   "id": "38d7b20e",
   "metadata": {},
   "outputs": [],
   "source": [
    "#filter data out\n",
    "\n",
    "#reject outliers that cannot be filtered\n",
    "\n",
    "#plot new ERP"
   ]
  },
  {
   "cell_type": "markdown",
   "id": "250c7c60",
   "metadata": {},
   "source": [
    "This is already much better. Pre-processing is a whole topic to itself, so we will not go into detail in that part, you have the whole master to learn it."
   ]
  },
  {
   "cell_type": "markdown",
   "id": "f34e82ce",
   "metadata": {},
   "source": [
    "## 3. Look at the behavior\n",
    "We are not only interested in the EEG, but also in how the participants behaved and in particular how fast they responsed. In the following section, we extract the response times and look at their distribution."
   ]
  },
  {
   "cell_type": "code",
   "execution_count": null,
   "id": "fe5b74b1",
   "metadata": {},
   "outputs": [],
   "source": [
    "# extract response times\n",
    "\n",
    "# plot histograms"
   ]
  },
  {
   "cell_type": "markdown",
   "id": "f5639352",
   "metadata": {},
   "source": [
    "We can also gain insight from the errors that people have made."
   ]
  },
  {
   "cell_type": "code",
   "execution_count": 1,
   "id": "5937d149",
   "metadata": {},
   "outputs": [],
   "source": [
    "# count number of errors"
   ]
  },
  {
   "cell_type": "markdown",
   "id": "faee0d16",
   "metadata": {},
   "source": [
    "## 4. Inter-trial phase coherence (ITPC)\n",
    "Also called intertrial phase clustering, this technique presents a global view on the phases at a specific time-point in all the trials. In particular, it tells you how consistent the phase at that time point is in all trials.\n",
    "\n",
    "The ERP, that we have seen before, is extracted through averaging all trials. Averaging is very useful to observe global tendecies of the signal amplitude. It would be nice to observe the phase in the same manner. However, it is not possible to average phases because of their circularity: $0$ and $2 \\pi$ are the same angle, but they are numerically very far! Simple averaging is not possible, but what we can do is convert the angles in their exponential notation."
   ]
  },
  {
   "cell_type": "code",
   "execution_count": null,
   "id": "baaa6e6d",
   "metadata": {},
   "outputs": [],
   "source": []
  },
  {
   "cell_type": "code",
   "execution_count": null,
   "id": "7081beb6",
   "metadata": {},
   "outputs": [],
   "source": []
  },
  {
   "cell_type": "markdown",
   "id": "eef0864b",
   "metadata": {},
   "source": [
    "## 5. Combining ITPC and other quantitative data: wITPC\n",
    "From the ITPC exists a derived quantity called weighted ITPC, which allows to put in relation the EEG and another quantity: response times, pupil diameter, heart rate, etc. It is particularly useful for putting in relation behavior and phases, and is an elegant alternative to correlations."
   ]
  },
  {
   "cell_type": "code",
   "execution_count": null,
   "id": "f35719ff",
   "metadata": {},
   "outputs": [],
   "source": []
  }
 ],
 "metadata": {
  "kernelspec": {
   "display_name": "Python 3 (ipykernel)",
   "language": "python",
   "name": "python3"
  },
  "language_info": {
   "codemirror_mode": {
    "name": "ipython",
    "version": 3
   },
   "file_extension": ".py",
   "mimetype": "text/x-python",
   "name": "python",
   "nbconvert_exporter": "python",
   "pygments_lexer": "ipython3",
   "version": "3.8.11"
  }
 },
 "nbformat": 4,
 "nbformat_minor": 5
}
